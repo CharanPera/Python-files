{
  "nbformat": 4,
  "nbformat_minor": 0,
  "metadata": {
    "colab": {
      "name": "Practise1.ipynb",
      "provenance": [],
      "include_colab_link": true
    },
    "kernelspec": {
      "name": "python3",
      "display_name": "Python 3"
    }
  },
  "cells": [
    {
      "cell_type": "markdown",
      "metadata": {
        "id": "view-in-github",
        "colab_type": "text"
      },
      "source": [
        "<a href=\"https://colab.research.google.com/github/CharanPera/Python-files/blob/master/Practise1.ipynb\" target=\"_parent\"><img src=\"https://colab.research.google.com/assets/colab-badge.svg\" alt=\"Open In Colab\"/></a>"
      ]
    },
    {
      "cell_type": "code",
      "metadata": {
        "id": "iRBRy5I7aFQ_",
        "colab_type": "code",
        "colab": {}
      },
      "source": [
        "print('hello world')\n"
      ],
      "execution_count": 0,
      "outputs": []
    },
    {
      "cell_type": "markdown",
      "metadata": {
        "id": "IHkDMs7ycF_A",
        "colab_type": "text"
      },
      "source": [
        "1. **Accept a string as a input and check whether the string is palindrome or not?**\n"
      ]
    },
    {
      "cell_type": "code",
      "metadata": {
        "id": "fSB7dpn3csFC",
        "colab_type": "code",
        "colab": {}
      },
      "source": [
        "a=input(\"enter string\")\n",
        "a[0: :2]"
      ],
      "execution_count": 0,
      "outputs": []
    },
    {
      "cell_type": "markdown",
      "metadata": {
        "id": "JTTQLYrvj72W",
        "colab_type": "text"
      },
      "source": [
        "2. **Accept a string as a input and check whether the string is palindrome or not?**"
      ]
    },
    {
      "cell_type": "code",
      "metadata": {
        "id": "YIu7zNt7ewAI",
        "colab_type": "code",
        "colab": {}
      },
      "source": [
        "a=input('enter string')\n",
        "if(a==a[::-1]):\n",
        "  print(\"palindrome\")\n",
        "else:\n",
        "  print(\"not\")"
      ],
      "execution_count": 0,
      "outputs": []
    },
    {
      "cell_type": "markdown",
      "metadata": {
        "id": "GSIBAN7mkIQt",
        "colab_type": "text"
      },
      "source": [
        "3. **Accept age and check whether the person is eligible for voting or not?**"
      ]
    },
    {
      "cell_type": "code",
      "metadata": {
        "id": "8Ksb6t_oh6HL",
        "colab_type": "code",
        "colab": {}
      },
      "source": [
        "a=int(input(\"enter num\"))\n",
        "if(a>18):\n",
        "  print(\"eligible\")\n",
        "else:\n",
        "  print(\"not eligible\")"
      ],
      "execution_count": 0,
      "outputs": []
    },
    {
      "cell_type": "markdown",
      "metadata": {
        "id": "fji6Ne_JkJt-",
        "colab_type": "text"
      },
      "source": [
        "4. **accept a given given year and check leap year or** **not**"
      ]
    },
    {
      "cell_type": "code",
      "metadata": {
        "id": "IezjcTp1knwZ",
        "colab_type": "code",
        "colab": {}
      },
      "source": [
        "a=int(input('enter any year'))\n",
        "if(a%4==0 and a%100==0) or (a%100==0 and a%400==0):\n",
        "      print('leap')\n",
        "else:\n",
        "      print('not')"
      ],
      "execution_count": 0,
      "outputs": []
    },
    {
      "cell_type": "markdown",
      "metadata": {
        "id": "7Vxled2YnFPj",
        "colab_type": "text"
      },
      "source": [
        "5. **Check given number is divisible by 2 and 3 but not **"
      ]
    },
    {
      "cell_type": "code",
      "metadata": {
        "id": "Os5_4k2hnOI4",
        "colab_type": "code",
        "colab": {}
      },
      "source": [
        "a= int(input(\"enter a number\"))\n",
        "if(a%2==0 and a%3==0 and a%4!=0):\n",
        "    print(\"ok\")\n",
        "else:\n",
        "    print(\"notok\")\n"
      ],
      "execution_count": 0,
      "outputs": []
    },
    {
      "cell_type": "markdown",
      "metadata": {
        "id": "nrX6hO8ro1ma",
        "colab_type": "text"
      },
      "source": [
        "6. **Accept three numbers and print largest?**"
      ]
    },
    {
      "cell_type": "code",
      "metadata": {
        "id": "WuGI2LqIpBRn",
        "colab_type": "code",
        "colab": {}
      },
      "source": [
        "a=int(input(\"enter numbers\"))  # a,b,c= map(int,input().split())\n",
        "b=int(input(\"enter numbers\"))\n",
        "c=int(input(\"enter numbers\"))\n",
        "if(a>b and a>c):\n",
        "  print(a,\"is great\")\n",
        "elif(b>a and b>c):\n",
        "  print(b,\"is great\")\n",
        "else:\n",
        "  print(c,\"is great\") "
      ],
      "execution_count": 0,
      "outputs": []
    },
    {
      "cell_type": "markdown",
      "metadata": {
        "id": "gDuWfj1SxEc5",
        "colab_type": "text"
      },
      "source": [
        " 7. **Accept three numbers of four digits and print the largest thounsand place and least hundreds and so on?  ex:5678 1234 2456  op: 5274**"
      ]
    },
    {
      "cell_type": "code",
      "metadata": {
        "id": "XrwG3khyxswX",
        "colab_type": "code",
        "outputId": "15bf58d5-1c6d-455f-afca-5ebda2d1eab5",
        "colab": {
          "base_uri": "https://localhost:8080/",
          "height": 51
        }
      },
      "source": [
        "a,b,c=map(str,input().split())\n",
        "d=max(a[0],b[0],c[0])\n",
        "e=min(a[1],b[1],c[1])\n",
        "f=max(a[2],b[2],c[2])\n",
        "g=min(a[3],b[3],c[3])\n",
        "print(d,e,f,g,sep=\"\")"
      ],
      "execution_count": 0,
      "outputs": [
        {
          "output_type": "stream",
          "text": [
            "5678 1234 2456\n",
            "5274\n"
          ],
          "name": "stdout"
        }
      ]
    },
    {
      "cell_type": "markdown",
      "metadata": {
        "id": "ZLvSrG2E1oJD",
        "colab_type": "text"
      },
      "source": [
        ""
      ]
    }
  ]
}