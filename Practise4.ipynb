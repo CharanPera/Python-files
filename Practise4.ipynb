{
  "nbformat": 4,
  "nbformat_minor": 0,
  "metadata": {
    "colab": {
      "name": "Practise4.ipynb",
      "provenance": [],
      "authorship_tag": "ABX9TyOX117qc7N50fWybSnALbq5",
      "include_colab_link": true
    },
    "kernelspec": {
      "name": "python3",
      "display_name": "Python 3"
    }
  },
  "cells": [
    {
      "cell_type": "markdown",
      "metadata": {
        "id": "view-in-github",
        "colab_type": "text"
      },
      "source": [
        "<a href=\"https://colab.research.google.com/github/CharanPera/Python-files/blob/master/Practise4.ipynb\" target=\"_parent\"><img src=\"https://colab.research.google.com/assets/colab-badge.svg\" alt=\"Open In Colab\"/></a>"
      ]
    },
    {
      "cell_type": "markdown",
      "metadata": {
        "id": "AkmnDR1n42yA",
        "colab_type": "text"
      },
      "source": [
        "1. Read the input as two limits and Print the output as Palindrome count between the two limits\n",
        "Example #1; Input : 1 10 Output : 9 Example #2: Input : 1 100 Output : 18"
      ]
    },
    {
      "cell_type": "code",
      "metadata": {
        "id": "bmnTdIGd4zst",
        "colab_type": "code",
        "outputId": "35ba8770-4d8e-4f6c-aa40-c0faf1a79dfc",
        "colab": {
          "base_uri": "https://localhost:8080/",
          "height": 51
        }
      },
      "source": [
        "a,b=map(int,input().split())\n",
        "count=0\n",
        "for i in range(a,b):\n",
        "  c=str(i)\n",
        "  if(c==c[::-1]):\n",
        "    count+=1\n",
        "print(count)"
      ],
      "execution_count": 0,
      "outputs": [
        {
          "output_type": "stream",
          "text": [
            "1 100\n",
            "18\n"
          ],
          "name": "stdout"
        }
      ]
    },
    {
      "cell_type": "markdown",
      "metadata": {
        "id": "aTkdoUNW8uVt",
        "colab_type": "text"
      },
      "source": [
        "2. Read the input as number and Print the output as Count of Triangles and Circles in the given number\n",
        "Example #1 :\n",
        "Input : 12854 Output : 3\n"
      ]
    },
    {
      "cell_type": "code",
      "metadata": {
        "id": "kSRvKkZ88m68",
        "colab_type": "code",
        "outputId": "7495dd0d-d28a-4406-c6bf-115248bf194f",
        "colab": {
          "base_uri": "https://localhost:8080/",
          "height": 51
        }
      },
      "source": [
        "\n",
        "c=0\n",
        "a=input(\"enternum\")\n",
        "for i in a:\n",
        "  if(i=='4'):\n",
        "    c+=1\n",
        "  elif(i=='6'):\n",
        "    c+=1\n",
        "  elif(i=='8'):\n",
        "    c+=2\n",
        "  elif(i=='9'):\n",
        "    c+=1\n",
        "print(c)"
      ],
      "execution_count": 0,
      "outputs": [
        {
          "output_type": "stream",
          "text": [
            "enternum12854\n",
            "3\n"
          ],
          "name": "stdout"
        }
      ]
    },
    {
      "cell_type": "markdown",
      "metadata": {
        "id": "rjxDrh-V92N2",
        "colab_type": "text"
      },
      "source": [
        "3. The program must accept an integer N the input. The program must print the desired pattern as shown in the Example Input/Output section.\n",
        "Input Format: The first line contains the value of N. Output Format: The list of lines containing the desired pattern as shown in the Example Input/Output sections.\n",
        "input:60710\n",
        "output:\n",
        "60710\n",
        "|******\n",
        "|\n",
        "|*******\n",
        "|*\n",
        "|"
      ]
    },
    {
      "cell_type": "code",
      "metadata": {
        "id": "eLi_j05M91xS",
        "colab_type": "code",
        "outputId": "c13b9960-2129-416e-9f08-00bc8376eb5c",
        "colab": {
          "base_uri": "https://localhost:8080/",
          "height": 127
        }
      },
      "source": [
        "a=int(input(\"enter number\"))\n",
        "b=str(a)\n",
        "for i in b:\n",
        "  j=int(i)\n",
        "  print(\"|\",\"*\"*j)"
      ],
      "execution_count": 0,
      "outputs": [
        {
          "output_type": "stream",
          "text": [
            "enter number11785\n",
            "| *\n",
            "| *\n",
            "| *******\n",
            "| ********\n",
            "| *****\n"
          ],
          "name": "stdout"
        }
      ]
    },
    {
      "cell_type": "markdown",
      "metadata": {
        "id": "hhV4aFBHXqqM",
        "colab_type": "text"
      },
      "source": [
        "Question4:(infosys)\n",
        "input : [1,2,2,5,2,1,3,8,4]\n",
        "output : 9\n",
        "condition\n",
        "1.In the list,assume that there is only one 5 and only one 8\n",
        "and 8 comes always after 5\n",
        "2.Return the sum of elements of the list\n",
        "3.Do not include the elements between 5 and 8"
      ]
    },
    {
      "cell_type": "code",
      "metadata": {
        "id": "Gue8DDs1XqZi",
        "colab_type": "code",
        "outputId": "0a135e1c-0fef-41a3-bf96-d92413b00271",
        "colab": {
          "base_uri": "https://localhost:8080/",
          "height": 35
        }
      },
      "source": [
        "a=[1,2,2,5,2,1,3,4]\n",
        "c=0\n",
        "for i in range(len(a)):\n",
        "  if(a[i]==5):\n",
        "    j=i\n",
        "    print(j)\n",
        "    continue\n",
        "  elif(a[i]==8):\n",
        "    k=i\n",
        "    print(k)\n",
        "    continue\n",
        "  else:\n",
        "    break\n",
        "for i in range(j):\n",
        "  c+=a[i]\n",
        "for i in range(k+1,len(a)):\n",
        "  c+=a[i]\n",
        "print(c)\n"
      ],
      "execution_count": 0,
      "outputs": [
        {
          "output_type": "stream",
          "text": [
            "5\n"
          ],
          "name": "stdout"
        }
      ]
    }
  ]
}