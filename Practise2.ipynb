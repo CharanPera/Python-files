{
  "nbformat": 4,
  "nbformat_minor": 0,
  "metadata": {
    "colab": {
      "name": "Practise2.ipynb",
      "provenance": [],
      "include_colab_link": true
    },
    "kernelspec": {
      "name": "python2",
      "display_name": "Python 2"
    }
  },
  "cells": [
    {
      "cell_type": "markdown",
      "metadata": {
        "id": "view-in-github",
        "colab_type": "text"
      },
      "source": [
        "<a href=\"https://colab.research.google.com/github/CharanPera/Python-files/blob/master/Practise2.ipynb\" target=\"_parent\"><img src=\"https://colab.research.google.com/assets/colab-badge.svg\" alt=\"Open In Colab\"/></a>"
      ]
    },
    {
      "cell_type": "markdown",
      "metadata": {
        "id": "l5Z1ti9sRKf5",
        "colab_type": "text"
      },
      "source": [
        "i/p: orange o/p: puboif"
      ]
    },
    {
      "cell_type": "code",
      "metadata": {
        "id": "KLSxdI7jLo_N",
        "colab_type": "code",
        "outputId": "f51439fb-84b4-4eda-8319-60d0ba3c5601",
        "colab": {
          "base_uri": "https://localhost:8080/",
          "height": 136
        }
      },
      "source": [
        "a=raw_input(\"enter a word:\")\n",
        "vow=('a','e','i','o','u')\n",
        "for i in a:\n",
        "  if(i in vow):\n",
        "    c=ord(i)\n",
        "    print(chr(c+1))\n",
        "  else:\n",
        "    c=ord(i)\n",
        "    for i in vow:\n",
        "      d=ord(i)\n",
        "      if(c<d):\n",
        "        print(chr(d))\n",
        "        break\n",
        "      \n"
      ],
      "execution_count": 0,
      "outputs": [
        {
          "output_type": "stream",
          "text": [
            "enter a word:orange\n",
            "p\n",
            "u\n",
            "b\n",
            "o\n",
            "i\n",
            "f\n"
          ],
          "name": "stdout"
        }
      ]
    },
    {
      "cell_type": "markdown",
      "metadata": {
        "id": "huE0FK04RUxp",
        "colab_type": "text"
      },
      "source": [
        "i/p: Application o/p: 2"
      ]
    },
    {
      "cell_type": "code",
      "metadata": {
        "id": "JldW6D9oRURs",
        "colab_type": "code",
        "outputId": "64713f80-bb68-49f0-a579-519b456206af",
        "colab": {
          "base_uri": "https://localhost:8080/",
          "height": 68
        }
      },
      "source": [
        "a=raw_input(\"enter a word:\")\n",
        "b=raw_input(\"enter a alphabet:\")\n",
        "count=0\n",
        "for i in a:\n",
        "  if(i==b):\n",
        "    count+=1\n",
        "print(count)"
      ],
      "execution_count": 0,
      "outputs": [
        {
          "output_type": "stream",
          "text": [
            "enter a word:application\n",
            "enter a alphabet:p\n",
            "2\n"
          ],
          "name": "stdout"
        }
      ]
    },
    {
      "cell_type": "markdown",
      "metadata": {
        "id": "8YROzguPSEAe",
        "colab_type": "text"
      },
      "source": [
        "3. i/p:abc123def456   o/p:6"
      ]
    },
    {
      "cell_type": "code",
      "metadata": {
        "id": "H-t-MngnSayK",
        "colab_type": "code",
        "outputId": "2d8f0033-533b-4f7c-e75d-19a236577e2b",
        "colab": {
          "base_uri": "https://localhost:8080/",
          "height": 51
        }
      },
      "source": [
        "a=raw_input(\"enter a string:\")\n",
        "count=0\n",
        "for i in a:\n",
        "  if(i.isalpha()):\n",
        "    count+=1\n",
        "print(count)  "
      ],
      "execution_count": 0,
      "outputs": [
        {
          "output_type": "stream",
          "text": [
            "enter a string:avghgt14\n",
            "6\n"
          ],
          "name": "stdout"
        }
      ]
    },
    {
      "cell_type": "markdown",
      "metadata": {
        "id": "_Yn6TA_FSdfz",
        "colab_type": "text"
      },
      "source": [
        "4. i/p: preeti o/p:3"
      ]
    },
    {
      "cell_type": "code",
      "metadata": {
        "id": "RHI-uQuwSc0E",
        "colab_type": "code",
        "outputId": "4d9b5511-9638-4502-d4db-6bc876f6c3bf",
        "colab": {
          "base_uri": "https://localhost:8080/",
          "height": 51
        }
      },
      "source": [
        "a=raw_input(\"enter a string:\")\n",
        "vow=['a','e','i','o','u']\n",
        "count=0\n",
        "for i in a:\n",
        "  if(i in vow):\n",
        "    count+=1\n",
        "print(count)"
      ],
      "execution_count": 0,
      "outputs": [
        {
          "output_type": "stream",
          "text": [
            "enter a string:preeti\n",
            "3\n"
          ],
          "name": "stdout"
        }
      ]
    },
    {
      "cell_type": "markdown",
      "metadata": {
        "id": "SJp1FBKrSkb6",
        "colab_type": "text"
      },
      "source": [
        "5. i/p:pYthOn   o/p:PyTHoN"
      ]
    },
    {
      "cell_type": "code",
      "metadata": {
        "id": "DbilMEB_SkJE",
        "colab_type": "code",
        "outputId": "d16dc3c2-a695-4626-aa7a-4db5e507925f",
        "colab": {
          "base_uri": "https://localhost:8080/",
          "height": 136
        }
      },
      "source": [
        "a=raw_input(\"enter a string:\")\n",
        "for i in a:\n",
        "  if(i.isupper()):\n",
        "    a=i.lower()\n",
        "    print(a)\n",
        "  else:\n",
        "    b=i.upper()\n",
        "    print(b)"
      ],
      "execution_count": 0,
      "outputs": [
        {
          "output_type": "stream",
          "text": [
            "enter a string:chAram\n",
            "C\n",
            "H\n",
            "a\n",
            "R\n",
            "A\n",
            "M\n"
          ],
          "name": "stdout"
        }
      ]
    }
  ]
}