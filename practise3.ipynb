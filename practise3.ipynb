{
  "nbformat": 4,
  "nbformat_minor": 0,
  "metadata": {
    "colab": {
      "name": "practise3.ipynb",
      "provenance": [],
      "collapsed_sections": [],
      "include_colab_link": true
    },
    "kernelspec": {
      "name": "python3",
      "display_name": "Python 3"
    }
  },
  "cells": [
    {
      "cell_type": "markdown",
      "metadata": {
        "id": "view-in-github",
        "colab_type": "text"
      },
      "source": [
        "<a href=\"https://colab.research.google.com/github/CharanPera/Python-files/blob/master/practise3.ipynb\" target=\"_parent\"><img src=\"https://colab.research.google.com/assets/colab-badge.svg\" alt=\"Open In Colab\"/></a>"
      ]
    },
    {
      "cell_type": "markdown",
      "metadata": {
        "id": "xky_ZO0TXstb",
        "colab_type": "text"
      },
      "source": [
        "1. Factors and check for perfect factors  eg: 6 factors 1,2,3 i.e,. 1+2+3=6 perfect factor"
      ]
    },
    {
      "cell_type": "code",
      "metadata": {
        "id": "1cdtcsimXnBK",
        "colab_type": "code",
        "outputId": "42877e4b-3021-4193-80b5-517314e54b44",
        "colab": {
          "base_uri": "https://localhost:8080/",
          "height": 51
        }
      },
      "source": [
        "a=int(input(\"enter number\"))\n",
        "sum=0\n",
        "for i in range(1,a):\n",
        "  if(a%i==0):\n",
        "    sum=sum+i\n",
        "if(sum==a):\n",
        "      print(\"perfect number\")\n",
        "else:\n",
        "      print(\"not perfect:\")\n"
      ],
      "execution_count": 0,
      "outputs": [
        {
          "output_type": "stream",
          "text": [
            "enter number6\n",
            "perfect number\n"
          ],
          "name": "stdout"
        }
      ]
    },
    {
      "cell_type": "markdown",
      "metadata": {
        "id": "uVKNCt6fYpwk",
        "colab_type": "text"
      },
      "source": [
        "2. factorial of given number"
      ]
    },
    {
      "cell_type": "code",
      "metadata": {
        "id": "p6f0Vb-fY1NW",
        "colab_type": "code",
        "outputId": "2b150e7e-da2f-4b7f-9eca-1ed1cb394556",
        "colab": {
          "base_uri": "https://localhost:8080/",
          "height": 51
        }
      },
      "source": [
        "a=int(input(\"enter number\"))\n",
        "prod=1\n",
        "for i in range(1,a+1):\n",
        "  prod=prod*i\n",
        "print(prod)\n"
      ],
      "execution_count": 0,
      "outputs": [
        {
          "output_type": "stream",
          "text": [
            "enter number5\n",
            "120\n"
          ],
          "name": "stdout"
        }
      ]
    },
    {
      "cell_type": "markdown",
      "metadata": {
        "id": "LDRg-auBY2et",
        "colab_type": "text"
      },
      "source": [
        "3. strong number eg. 145-1!+4!+5!=145"
      ]
    },
    {
      "cell_type": "code",
      "metadata": {
        "id": "DUgivdyGYpFZ",
        "colab_type": "code",
        "outputId": "484e76d0-23a7-418b-9bf0-44df03e55eaa",
        "colab": {
          "base_uri": "https://localhost:8080/",
          "height": 51
        }
      },
      "source": [
        "a=input(\"enter number\")\n",
        "summ=0\n",
        "for i in a:\n",
        "  b=int(i)\n",
        "  prod=1\n",
        "  for j in range(1,b+1):\n",
        "    prod=prod*j\n",
        "  summ=summ+prod\n",
        "print(summ)"
      ],
      "execution_count": 0,
      "outputs": [
        {
          "output_type": "stream",
          "text": [
            "enter number145\n",
            "145\n"
          ],
          "name": "stdout"
        }
      ]
    },
    {
      "cell_type": "markdown",
      "metadata": {
        "id": "oeaTq3UgdEjw",
        "colab_type": "text"
      },
      "source": [
        "4.armstrong number  eg.12 =1^2+2^2=12"
      ]
    },
    {
      "cell_type": "code",
      "metadata": {
        "id": "au5ZypIqda1W",
        "colab_type": "code",
        "outputId": "b413a02e-d7fc-47dc-fbc4-948a32fc30a8",
        "colab": {
          "base_uri": "https://localhost:8080/",
          "height": 68
        }
      },
      "source": [
        "a=input(\"enter number\")\n",
        "b=len(a)\n",
        "sum=0\n",
        "for i in a:\n",
        "  c=int(i)**b\n",
        "  sum=sum+c\n",
        "print(sum)\n",
        "if(str(sum)==a):\n",
        "  print(\"armstrong\")"
      ],
      "execution_count": 0,
      "outputs": [
        {
          "output_type": "stream",
          "text": [
            "enter number153\n",
            "153\n",
            "armstrong\n"
          ],
          "name": "stdout"
        }
      ]
    },
    {
      "cell_type": "markdown",
      "metadata": {
        "id": "zC7VAjt8dba6",
        "colab_type": "text"
      },
      "source": [
        "5. print \n",
        "          'fiz' if the number is divisible by 3\n",
        "          'luzz' if   it is by 5\n",
        "          'fizzbuzz' if both 3and 5\n",
        "          if it is not printed by both return number"
      ]
    },
    {
      "cell_type": "code",
      "metadata": {
        "id": "rxuYZZJ6dETF",
        "colab_type": "code",
        "outputId": "14e70e64-7a30-4252-f9d8-4d481812d966",
        "colab": {
          "base_uri": "https://localhost:8080/",
          "height": 51
        }
      },
      "source": [
        "a=int(input(\"enter number\"))\n",
        "if(a%3==0):\n",
        "  if(a%5==0):\n",
        "    print(\"fizzbuzz\")\n",
        "  else:\n",
        "    print(\"fizz\")\n",
        "elif(a%5==0):\n",
        "  print(\"luzz\")\n",
        "else:\n",
        "  print(a)"
      ],
      "execution_count": 0,
      "outputs": [
        {
          "output_type": "stream",
          "text": [
            "enter number20\n",
            "luzz\n"
          ],
          "name": "stdout"
        }
      ]
    },
    {
      "cell_type": "markdown",
      "metadata": {
        "id": "ZbbsNa4zeCJv",
        "colab_type": "text"
      },
      "source": [
        "6. sum of even digits in the given number eg:562134    6+2+4=12"
      ]
    },
    {
      "cell_type": "code",
      "metadata": {
        "id": "KDYehqE-eB5B",
        "colab_type": "code",
        "outputId": "ea6869c9-eba6-4caf-a003-4d17f8d9157d",
        "colab": {
          "base_uri": "https://localhost:8080/",
          "height": 51
        }
      },
      "source": [
        "a=input(\"enter number\")\n",
        "sum=0\n",
        "for i in a:\n",
        "  b=int(i)\n",
        "  if(b%2==0):\n",
        "    sum=sum+b\n",
        "print(sum)"
      ],
      "execution_count": 0,
      "outputs": [
        {
          "output_type": "stream",
          "text": [
            "enter number123454678\n",
            "24\n"
          ],
          "name": "stdout"
        }
      ]
    },
    {
      "cell_type": "markdown",
      "metadata": {
        "id": "OYArfrmxiOEB",
        "colab_type": "text"
      },
      "source": [
        "7. print pair of prime numbers in a given range which give difference 6  eg: (5,11).."
      ]
    },
    {
      "cell_type": "code",
      "metadata": {
        "id": "VFwZyiLmiNnx",
        "colab_type": "code",
        "outputId": "f1a1b4d2-6893-40fc-9a5c-52fd59eeddd8",
        "colab": {
          "base_uri": "https://localhost:8080/",
          "height": 51
        }
      },
      "source": [
        "a=int(input(\"enter number\"))\n",
        "b=list()\n",
        "for i in range(1,a):\n",
        "  count=0\n",
        "  for j in range(2,i):\n",
        "    if(i%j==0):\n",
        "      count+=1\n",
        "  if(count==0):\n",
        "    b.append(i)\n",
        "for i in b:\n",
        "  for j in b:\n",
        "    if((j-i)==6):\n",
        "      print((i,j),end=\"\")\n",
        "\n"
      ],
      "execution_count": 0,
      "outputs": [
        {
          "output_type": "stream",
          "text": [
            "enter number50\n",
            "(1, 7)(5, 11)(7, 13)(11, 17)(13, 19)(17, 23)(23, 29)(31, 37)(37, 43)(41, 47)"
          ],
          "name": "stdout"
        }
      ]
    },
    {
      "cell_type": "markdown",
      "metadata": {
        "id": "QedODhxqmRwY",
        "colab_type": "text"
      },
      "source": [
        "8. accept a number as input check it is palindrome or  not  if not add the reverse of the number to original numnber and check for prime if not continue  and return the palindrome number:"
      ]
    },
    {
      "cell_type": "code",
      "metadata": {
        "id": "6WQxBCG1l76U",
        "colab_type": "code",
        "outputId": "9a02d642-a7dd-467b-dd2c-03f1731f0400",
        "colab": {
          "base_uri": "https://localhost:8080/",
          "height": 51
        }
      },
      "source": [
        "def pali(a):\n",
        "  b=a[::-1]\n",
        "  if(a==b):\n",
        "    print(\"palindrome\",a)\n",
        "  else:\n",
        "    x=int(a)+int(b)\n",
        "    pali(str(x))\n",
        "x=input(\"enter number\")\n",
        "pali(x)\n"
      ],
      "execution_count": 0,
      "outputs": [
        {
          "output_type": "stream",
          "text": [
            "enter number265\n",
            "palindrome 45254\n"
          ],
          "name": "stdout"
        }
      ]
    }
  ]
}